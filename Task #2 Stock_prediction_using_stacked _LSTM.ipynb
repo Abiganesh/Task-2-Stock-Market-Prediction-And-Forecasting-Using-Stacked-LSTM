{
 "cells": [
  {
   "attachments": {},
   "cell_type": "markdown",
   "metadata": {},
   "source": [
    "# Ganesh J\n"
   ]
  },
  {
   "cell_type": "markdown",
   "metadata": {},
   "source": [
    "### letsgrowmore"
   ]
  },
  {
   "cell_type": "markdown",
   "metadata": {},
   "source": [
    "### Topic : Stock Market Prediction And Forecasting Using Stacked LSTM\n",
    "### Level: BEGINNER (2)\n",
    "### Task number :2"
   ]
  },
  {
   "cell_type": "code",
   "execution_count": 21,
   "metadata": {},
   "outputs": [],
   "source": [
    "\n",
    "import pandas as pd\n",
    "import numpy as np\n",
    "import matplotlib.pyplot as plt\n",
    "import tensorflow.keras"
   ]
  },
  {
   "cell_type": "code",
   "execution_count": 22,
   "metadata": {},
   "outputs": [],
   "source": [
    "\n",
    "train= pd.read_csv('Price_train.csv')\n",
    "test= pd.read_csv('Price_test.csv')"
   ]
  },
  {
   "cell_type": "code",
   "execution_count": 23,
   "metadata": {},
   "outputs": [
    {
     "data": {
      "text/html": [
       "<div>\n",
       "<style scoped>\n",
       "    .dataframe tbody tr th:only-of-type {\n",
       "        vertical-align: middle;\n",
       "    }\n",
       "\n",
       "    .dataframe tbody tr th {\n",
       "        vertical-align: top;\n",
       "    }\n",
       "\n",
       "    .dataframe thead th {\n",
       "        text-align: right;\n",
       "    }\n",
       "</style>\n",
       "<table border=\"1\" class=\"dataframe\">\n",
       "  <thead>\n",
       "    <tr style=\"text-align: right;\">\n",
       "      <th></th>\n",
       "      <th>Date</th>\n",
       "      <th>Open</th>\n",
       "      <th>High</th>\n",
       "      <th>Low</th>\n",
       "      <th>Close</th>\n",
       "      <th>Volume</th>\n",
       "    </tr>\n",
       "  </thead>\n",
       "  <tbody>\n",
       "    <tr>\n",
       "      <th>0</th>\n",
       "      <td>1/3/2012</td>\n",
       "      <td>325.25</td>\n",
       "      <td>332.83</td>\n",
       "      <td>324.97</td>\n",
       "      <td>663.59</td>\n",
       "      <td>7,380,500</td>\n",
       "    </tr>\n",
       "    <tr>\n",
       "      <th>1</th>\n",
       "      <td>1/4/2012</td>\n",
       "      <td>331.27</td>\n",
       "      <td>333.87</td>\n",
       "      <td>329.08</td>\n",
       "      <td>666.45</td>\n",
       "      <td>5,749,400</td>\n",
       "    </tr>\n",
       "    <tr>\n",
       "      <th>2</th>\n",
       "      <td>1/5/2012</td>\n",
       "      <td>329.83</td>\n",
       "      <td>330.75</td>\n",
       "      <td>326.89</td>\n",
       "      <td>657.21</td>\n",
       "      <td>6,590,300</td>\n",
       "    </tr>\n",
       "    <tr>\n",
       "      <th>3</th>\n",
       "      <td>1/6/2012</td>\n",
       "      <td>328.34</td>\n",
       "      <td>328.77</td>\n",
       "      <td>323.68</td>\n",
       "      <td>648.24</td>\n",
       "      <td>5,405,900</td>\n",
       "    </tr>\n",
       "    <tr>\n",
       "      <th>4</th>\n",
       "      <td>1/9/2012</td>\n",
       "      <td>322.04</td>\n",
       "      <td>322.29</td>\n",
       "      <td>309.46</td>\n",
       "      <td>620.76</td>\n",
       "      <td>11,688,800</td>\n",
       "    </tr>\n",
       "  </tbody>\n",
       "</table>\n",
       "</div>"
      ],
      "text/plain": [
       "       Date    Open    High     Low   Close      Volume\n",
       "0  1/3/2012  325.25  332.83  324.97  663.59   7,380,500\n",
       "1  1/4/2012  331.27  333.87  329.08  666.45   5,749,400\n",
       "2  1/5/2012  329.83  330.75  326.89  657.21   6,590,300\n",
       "3  1/6/2012  328.34  328.77  323.68  648.24   5,405,900\n",
       "4  1/9/2012  322.04  322.29  309.46  620.76  11,688,800"
      ]
     },
     "execution_count": 23,
     "metadata": {},
     "output_type": "execute_result"
    }
   ],
   "source": [
    "train.head()"
   ]
  },
  {
   "cell_type": "code",
   "execution_count": 33,
   "metadata": {},
   "outputs": [
    {
     "data": {
      "text/plain": [
       "array([0.08627874])"
      ]
     },
     "execution_count": 33,
     "metadata": {},
     "output_type": "execute_result"
    }
   ],
   "source": [
    "train_open= train.iloc[:, 1:2].values\n",
    "\n",
    "from sklearn.preprocessing import MinMaxScaler\n",
    "ss= MinMaxScaler(feature_range=(0,1))\n",
    "train_open_scaled= ss.fit_transform(train_open)\n",
    "train_open_scaled[60]"
   ]
  },
  {
   "cell_type": "code",
   "execution_count": 34,
   "metadata": {},
   "outputs": [],
   "source": [
    "# Feature selection\n",
    "xtrain=[]\n",
    "ytrain=[]\n",
    "for i in range(60,len(train_open_scaled)):\n",
    "    xtrain.append(train_open_scaled[i-60:i,0])\n",
    "    ytrain.append(train_open_scaled[i,0])\n",
    "\n",
    "xtrain, ytrain = np.array(xtrain), np.array(ytrain)"
   ]
  },
  {
   "cell_type": "code",
   "execution_count": 35,
   "metadata": {},
   "outputs": [],
   "source": [
    "\n",
    "xtrain= np.reshape(xtrain,(xtrain.shape[0],xtrain.shape[1],1))"
   ]
  },
  {
   "cell_type": "code",
   "execution_count": 36,
   "metadata": {},
   "outputs": [
    {
     "data": {
      "text/plain": [
       "(1198, 60, 1)"
      ]
     },
     "execution_count": 36,
     "metadata": {},
     "output_type": "execute_result"
    }
   ],
   "source": [
    "xtrain.shape"
   ]
  },
  {
   "cell_type": "code",
   "execution_count": 37,
   "metadata": {},
   "outputs": [],
   "source": [
    "from tensorflow.keras.models import Sequential\n",
    "from keras.layers import LSTM\n",
    "from keras.layers import Dense\n",
    "from keras.layers import Dropout"
   ]
  },
  {
   "cell_type": "markdown",
   "metadata": {},
   "source": [
    "### Stacked LSTM"
   ]
  },
  {
   "cell_type": "code",
   "execution_count": 38,
   "metadata": {},
   "outputs": [
    {
     "name": "stdout",
     "output_type": "stream",
     "text": [
      "Epoch 1/60\n",
      "40/40 [==============================] - 8s 56ms/step - loss: 0.0475\n",
      "Epoch 2/60\n",
      "40/40 [==============================] - 2s 56ms/step - loss: 0.0099\n",
      "Epoch 3/60\n",
      "40/40 [==============================] - 2s 55ms/step - loss: 0.0084\n",
      "Epoch 4/60\n",
      "40/40 [==============================] - 2s 56ms/step - loss: 0.0083\n",
      "Epoch 5/60\n",
      "40/40 [==============================] - 2s 55ms/step - loss: 0.0077\n",
      "Epoch 6/60\n",
      "40/40 [==============================] - 2s 55ms/step - loss: 0.0067\n",
      "Epoch 7/60\n",
      "40/40 [==============================] - 2s 57ms/step - loss: 0.0060\n",
      "Epoch 8/60\n",
      "40/40 [==============================] - 2s 56ms/step - loss: 0.0055\n",
      "Epoch 9/60\n",
      "40/40 [==============================] - 2s 55ms/step - loss: 0.0064\n",
      "Epoch 10/60\n",
      "40/40 [==============================] - 2s 59ms/step - loss: 0.0062\n",
      "Epoch 11/60\n",
      "40/40 [==============================] - 2s 60ms/step - loss: 0.0062\n",
      "Epoch 12/60\n",
      "40/40 [==============================] - 2s 59ms/step - loss: 0.0064\n",
      "Epoch 13/60\n",
      "40/40 [==============================] - 2s 58ms/step - loss: 0.0059\n",
      "Epoch 14/60\n",
      "40/40 [==============================] - 2s 57ms/step - loss: 0.0045\n",
      "Epoch 15/60\n",
      "40/40 [==============================] - 2s 56ms/step - loss: 0.0048\n",
      "Epoch 16/60\n",
      "40/40 [==============================] - 2s 57ms/step - loss: 0.0048: 0s - loss: 0.0\n",
      "Epoch 17/60\n",
      "40/40 [==============================] - 2s 59ms/step - loss: 0.0043\n",
      "Epoch 18/60\n",
      "40/40 [==============================] - 2s 62ms/step - loss: 0.0045\n",
      "Epoch 19/60\n",
      "40/40 [==============================] - 2s 57ms/step - loss: 0.0048: 0s - l\n",
      "Epoch 20/60\n",
      "40/40 [==============================] - 2s 61ms/step - loss: 0.0040\n",
      "Epoch 21/60\n",
      "40/40 [==============================] - 2s 61ms/step - loss: 0.0043\n",
      "Epoch 22/60\n",
      "40/40 [==============================] - 2s 59ms/step - loss: 0.0043\n",
      "Epoch 23/60\n",
      "40/40 [==============================] - 2s 58ms/step - loss: 0.0039\n",
      "Epoch 24/60\n",
      "40/40 [==============================] - 2s 59ms/step - loss: 0.0045\n",
      "Epoch 25/60\n",
      "40/40 [==============================] - 2s 57ms/step - loss: 0.0048\n",
      "Epoch 26/60\n",
      "40/40 [==============================] - 2s 58ms/step - loss: 0.0042\n",
      "Epoch 27/60\n",
      "40/40 [==============================] - 2s 57ms/step - loss: 0.0041\n",
      "Epoch 28/60\n",
      "40/40 [==============================] - 2s 59ms/step - loss: 0.0036\n",
      "Epoch 29/60\n",
      "40/40 [==============================] - 2s 61ms/step - loss: 0.0039\n",
      "Epoch 30/60\n",
      "40/40 [==============================] - 2s 57ms/step - loss: 0.0040\n",
      "Epoch 31/60\n",
      "40/40 [==============================] - 2s 56ms/step - loss: 0.0036\n",
      "Epoch 32/60\n",
      "40/40 [==============================] - 2s 57ms/step - loss: 0.0035\n",
      "Epoch 33/60\n",
      "40/40 [==============================] - 2s 56ms/step - loss: 0.0036\n",
      "Epoch 34/60\n",
      "40/40 [==============================] - 2s 56ms/step - loss: 0.0038\n",
      "Epoch 35/60\n",
      "40/40 [==============================] - 2s 56ms/step - loss: 0.0037\n",
      "Epoch 36/60\n",
      "40/40 [==============================] - 2s 56ms/step - loss: 0.0035\n",
      "Epoch 37/60\n",
      "40/40 [==============================] - 2s 56ms/step - loss: 0.0034\n",
      "Epoch 38/60\n",
      "40/40 [==============================] - 2s 57ms/step - loss: 0.0037\n",
      "Epoch 39/60\n",
      "40/40 [==============================] - 2s 56ms/step - loss: 0.0033\n",
      "Epoch 40/60\n",
      "40/40 [==============================] - 2s 55ms/step - loss: 0.0037\n",
      "Epoch 41/60\n",
      "40/40 [==============================] - 2s 56ms/step - loss: 0.0031\n",
      "Epoch 42/60\n",
      "40/40 [==============================] - 2s 58ms/step - loss: 0.0038\n",
      "Epoch 43/60\n",
      "40/40 [==============================] - 2s 57ms/step - loss: 0.0033\n",
      "Epoch 44/60\n",
      "40/40 [==============================] - 2s 58ms/step - loss: 0.0029\n",
      "Epoch 45/60\n",
      "40/40 [==============================] - 2s 58ms/step - loss: 0.0031\n",
      "Epoch 46/60\n",
      "40/40 [==============================] - 2s 58ms/step - loss: 0.0030\n",
      "Epoch 47/60\n",
      "40/40 [==============================] - 2s 58ms/step - loss: 0.0030\n",
      "Epoch 48/60\n",
      "40/40 [==============================] - 2s 55ms/step - loss: 0.0030\n",
      "Epoch 49/60\n",
      "40/40 [==============================] - 2s 56ms/step - loss: 0.0027\n",
      "Epoch 50/60\n",
      "40/40 [==============================] - 2s 56ms/step - loss: 0.0030\n",
      "Epoch 51/60\n",
      "40/40 [==============================] - 2s 56ms/step - loss: 0.0027\n",
      "Epoch 52/60\n",
      "40/40 [==============================] - 2s 56ms/step - loss: 0.0029\n",
      "Epoch 53/60\n",
      "40/40 [==============================] - 2s 56ms/step - loss: 0.0029\n",
      "Epoch 54/60\n",
      "40/40 [==============================] - 2s 56ms/step - loss: 0.0029\n",
      "Epoch 55/60\n",
      "40/40 [==============================] - 2s 56ms/step - loss: 0.0026\n",
      "Epoch 56/60\n",
      "40/40 [==============================] - 2s 55ms/step - loss: 0.0026\n",
      "Epoch 57/60\n",
      "40/40 [==============================] - 2s 55ms/step - loss: 0.0027\n",
      "Epoch 58/60\n",
      "40/40 [==============================] - 2s 55ms/step - loss: 0.0026\n",
      "Epoch 59/60\n",
      "40/40 [==============================] - 2s 56ms/step - loss: 0.0025\n",
      "Epoch 60/60\n",
      "40/40 [==============================] - 2s 56ms/step - loss: 0.0025\n"
     ]
    },
    {
     "data": {
      "text/plain": [
       "<tensorflow.python.keras.callbacks.History at 0x16db5ebc2e0>"
      ]
     },
     "execution_count": 38,
     "metadata": {},
     "output_type": "execute_result"
    }
   ],
   "source": [
    "\n",
    "regression= Sequential()\n",
    "\n",
    "regression.add(LSTM(units=50,return_sequences=True,kernel_initializer='glorot_uniform',input_shape=(xtrain.shape[1],1)))\n",
    "regression.add(Dropout(0.3))\n",
    "\n",
    "\n",
    "regression.add(LSTM(units=50,kernel_initializer='glorot_uniform',return_sequences=True))\n",
    "regression.add(Dropout(0.3))\n",
    "\n",
    "\n",
    "regression.add(LSTM(units=50,kernel_initializer='glorot_uniform',return_sequences=True))\n",
    "regression.add(Dropout(0.3))\n",
    "\n",
    "regression.add(LSTM(units=50,kernel_initializer='glorot_uniform'))\n",
    "regression.add(Dropout(0.3))\n",
    "\n",
    "regression.add(Dense(units=1))\n",
    "\n",
    "\n",
    "regression.compile(optimizer='adam',loss='mean_squared_error')\n",
    "\n",
    "\n",
    "regression.fit(xtrain,ytrain,batch_size=30,epochs=60)"
   ]
  },
  {
   "cell_type": "markdown",
   "metadata": {},
   "source": [
    "### Predicting for test data"
   ]
  },
  {
   "cell_type": "code",
   "execution_count": 39,
   "metadata": {},
   "outputs": [],
   "source": [
    "\n",
    "test_open= test.iloc[:, 1:2].values #taking  open price\n",
    "total= pd.concat([train['Open'],test['Open']],axis=0) # Concating train and test and then will take last 60 train point\n",
    "test_input = total[len(total)-len(test)-60:].values\n",
    "test_input= test_input.reshape(-1,1) # reshaping it to get it transformed\n",
    "test_input= ss.transform(test_input)"
   ]
  },
  {
   "cell_type": "code",
   "execution_count": 40,
   "metadata": {},
   "outputs": [],
   "source": [
    "xtest= []\n",
    "for i in range(60,80):\n",
    "    xtest.append(test_input[i-60:i,0]) #creating input for lstm prediction"
   ]
  },
  {
   "cell_type": "code",
   "execution_count": 41,
   "metadata": {},
   "outputs": [],
   "source": [
    "xtest= np.array(xtest)"
   ]
  },
  {
   "cell_type": "code",
   "execution_count": 42,
   "metadata": {},
   "outputs": [],
   "source": [
    "xtest= np.reshape(xtest,(xtest.shape[0],xtest.shape[1],1))\n",
    "predicted_value= regression.predict(xtest)"
   ]
  },
  {
   "cell_type": "code",
   "execution_count": 43,
   "metadata": {},
   "outputs": [],
   "source": [
    "predicted_value= ss.inverse_transform(predicted_value)"
   ]
  },
  {
   "cell_type": "markdown",
   "metadata": {},
   "source": [
    "### Plotting the data"
   ]
  },
  {
   "cell_type": "code",
   "execution_count": 44,
   "metadata": {},
   "outputs": [
    {
     "data": {
      "text/plain": [
       "<matplotlib.legend.Legend at 0x16dc2398280>"
      ]
     },
     "execution_count": 44,
     "metadata": {},
     "output_type": "execute_result"
    },
    {
     "data": {
      "image/png": "[encoded data removed]",
      "text/plain": [
       "<Figure size 1440x720 with 1 Axes>"
      ]
     },
     "metadata": {
      "needs_background": "light"
     },
     "output_type": "display_data"
    }
   ],
   "source": [
    "plt.figure(figsize=(20,10))\n",
    "plt.plot(test_open,'red',label='Real Prices')\n",
    "plt.plot(predicted_value,'blue',label='Predicted Prices')\n",
    "plt.xlabel('Time')\n",
    "plt.ylabel('Prices')\n",
    "plt.title('Real vs Predicted Prices')\n",
    "plt.legend(loc='best', fontsize=20)\n"
   ]
  },
  {
   "cell_type": "markdown",
   "metadata": {},
   "source": [
    "### Thankyou!\n"
   ]
  }
 ],
 "metadata": {
  "kernelspec": {
   "display_name": "Python 3",
   "language": "python",
   "name": "python3"
  },
  "language_info": {
   "codemirror_mode": {
    "name": "ipython",
    "version": 3
   },
   "file_extension": ".py",
   "mimetype": "text/x-python",
   "name": "python",
   "nbconvert_exporter": "python",
   "pygments_lexer": "ipython3",
   "version": "3.8.5"
  }
 },
 "nbformat": 4,
 "nbformat_minor": 2
}
